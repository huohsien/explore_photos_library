{
 "cells": [
  {
   "cell_type": "code",
   "execution_count": 18,
   "metadata": {},
   "outputs": [],
   "source": [
    "import time\n",
    "import osxphotos"
   ]
  },
  {
   "cell_type": "code",
   "execution_count": null,
   "metadata": {},
   "outputs": [],
   "source": [
    "# photosdb = osxphotos.PhotosDB(\"/Volumes/PRO-G40 -- 20241025/Photos Library--iCloud Snapshot -- 20240607--macOS Catalina.photoslibrary\")     # Load the Photos library\n",
    "photosdb = osxphotos.PhotosDB()"
   ]
  },
  {
   "cell_type": "code",
   "execution_count": 20,
   "metadata": {},
   "outputs": [],
   "source": [
    "photos = photosdb.photos()     # Get all photos"
   ]
  },
  {
   "cell_type": "code",
   "execution_count": 21,
   "metadata": {},
   "outputs": [],
   "source": [
    "movies = photosdb.photos(images=False, movies=True)\n",
    "images = photosdb.photos(images=True, movies=False)\n"
   ]
  },
  {
   "cell_type": "code",
   "execution_count": 22,
   "metadata": {},
   "outputs": [],
   "source": [
    "missing_photos = []\n",
    "downloaded_photos = []\n",
    "for photo in photos:\n",
    "    if photo.ismissing:\n",
    "        missing_photos.append(photo)\n",
    "    else:\n",
    "        downloaded_photos.append(photo)"
   ]
  },
  {
   "cell_type": "code",
   "execution_count": null,
   "metadata": {},
   "outputs": [],
   "source": [
    "len(missing_photos)"
   ]
  },
  {
   "cell_type": "code",
   "execution_count": null,
   "metadata": {},
   "outputs": [],
   "source": [
    "len(downloaded_photos)"
   ]
  },
  {
   "cell_type": "code",
   "execution_count": 25,
   "metadata": {},
   "outputs": [],
   "source": [
    "missing_photos.sort(key=lambda x: x.date_added, reverse=True)\n",
    "downloaded_photos.sort(key=lambda x: x.date_added, reverse=True)"
   ]
  },
  {
   "cell_type": "code",
   "execution_count": null,
   "metadata": {},
   "outputs": [],
   "source": [
    "[\"{}\".format(x.date_added) for x in missing_photos]"
   ]
  },
  {
   "cell_type": "code",
   "execution_count": null,
   "metadata": {},
   "outputs": [],
   "source": [
    "[\"{}\".format(x.date_added) for x in downloaded_photos]"
   ]
  },
  {
   "cell_type": "code",
   "execution_count": null,
   "metadata": {},
   "outputs": [],
   "source": [
    "for photo in photos:\n",
    "    if \"{}\".format(photo.date_added) == '2025-01-15 15:38:11.807182+08:00':\n",
    "        print(\"Photo found: {}\".format(photo))\n",
    "        break"
   ]
  },
  {
   "cell_type": "code",
   "execution_count": null,
   "metadata": {},
   "outputs": [],
   "source": [
    "if len(missing_photos)>0:\n",
    "    print(missing_photos[0])"
   ]
  },
  {
   "cell_type": "code",
   "execution_count": null,
   "metadata": {},
   "outputs": [],
   "source": [
    "photos[0]"
   ]
  },
  {
   "cell_type": "code",
   "execution_count": 31,
   "metadata": {},
   "outputs": [],
   "source": [
    "photos[0].path"
   ]
  }
 ],
 "metadata": {
  "kernelspec": {
   "display_name": "explore_photos_library",
   "language": "python",
   "name": "python3"
  },
  "language_info": {
   "codemirror_mode": {
    "name": "ipython",
    "version": 3
   },
   "file_extension": ".py",
   "mimetype": "text/x-python",
   "name": "python",
   "nbconvert_exporter": "python",
   "pygments_lexer": "ipython3",
   "version": "3.12.8"
  }
 },
 "nbformat": 4,
 "nbformat_minor": 2
}
